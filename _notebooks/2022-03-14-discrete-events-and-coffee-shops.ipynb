{
 "cells": [
  {
   "cell_type": "markdown",
   "id": "4c9dc92b-9297-424c-a460-96b59ec0a020",
   "metadata": {},
   "source": [
    "# Discrete Events and Coffee Shops\n",
    "\n",
    "- toc: true\n",
    "- branch: master\n",
    "- badges: false\n",
    "- comments: true\n",
    "- categories: [python, simulation]\n",
    "- image: images/order_coffee.png\n",
    "- hide: false\n",
    "- search_exclude: false\n",
    "- annotations: true\n",
    "\n",
    "> We use discrete-event simulation to model a coffee shop."
   ]
  },
  {
   "cell_type": "markdown",
   "id": "6d377e00-2859-4b9f-9608-fde78dec11f3",
   "metadata": {},
   "source": [
    "<img class=\"docimage\" src=\"../images/cafe_greco_passini.jpg\" alt=\"A painting of an old cafe in Rome.\" style=\"max-width: 90%\"/>\n",
    "\n",
    "*Ludwig Passini - Cafe Greco*. Depicted is one of the oldest cafes in Rome, first opened in 1760."
   ]
  },
  {
   "cell_type": "markdown",
   "id": "419ba5b5-0264-4426-a2fa-1ba4c4dda192",
   "metadata": {},
   "source": [
    "## Discrete-event simulation\n",
    "\n",
    "In a discrete-event simulation we model a system as a sequence of events that occur at discrete times. For example, in a grocery queue, the events might be: (1) customer lines up at the queue, (2) customer reaches cashier, and (3) completes the transaction. The entire system is modeled via events and no state change occurs between events.\n",
    "\n",
    "Discrete event simulations have a large number of applications in logistics, operations and many others. They can be a useful addition in a data scientist's toolbelt.\n",
    "\n",
    "## Simpy\n",
    "\n",
    "Simpy is a Python package for discrete-event simulation. The package provides three main constructs: events, processes and resources. We will discuss resources in the Coffee Shop simulation, below we illustrate the first two constructs.\n",
    "\n",
    "Processes model components of a system by emitting events. Processes are defined by a Python generator. A generator allows for the temporary suspension of a process, and it makes it very convenient to model various components. Here is an example:"
   ]
  },
  {
   "cell_type": "code",
   "execution_count": 2,
   "id": "87ca86c3-c8b3-4801-91fc-6217b1a87d51",
   "metadata": {},
   "outputs": [
    {
     "name": "stdout",
     "output_type": "stream",
     "text": [
      "worker 1 finished 1 parts at 20\n",
      "worker 2 finished 1 parts at 30\n",
      "worker 1 finished 2 parts at 40\n",
      "worker 2 finished 2 parts at 60\n",
      "worker 1 finished 3 parts at 60\n",
      "worker 1 finished 4 parts at 80\n",
      "worker 2 finished 3 parts at 90\n"
     ]
    }
   ],
   "source": [
    "import simpy\n",
    "\n",
    "def worker(env, worker_id, time_to_complete):\n",
    "    \"\"\"A worker finishes a part every time_to_complete minutes\"\"\"\n",
    "    i = 1\n",
    "    while True:\n",
    "        yield env.timeout(time_to_complete)\n",
    "        print(f\"worker {worker_id} finished {i} parts at {env.now}\")\n",
    "        i += 1\n",
    "        \n",
    "env = simpy.Environment()\n",
    "env.process(worker(env, worker_id=1, time_to_complete=20))\n",
    "env.process(worker(env, worker_id=2, time_to_complete=30))\n",
    "env.run(until=100)"
   ]
  },
  {
   "cell_type": "markdown",
   "id": "29866187-ec52-4f21-acb5-c85fd51e6116",
   "metadata": {},
   "source": [
    "Above we create two worker processes. A worker simply takes `time_to_complete` minutes to complete a part. The \"waiting\" part is determined by a simpy Timeout event, which allows for simulation time to pass. When the timeout is complete (the event has been processed), the worker process is resumed and the entire procedure repeats.\n",
    "\n",
    "Note that the two workers are running concurrently. The simpy environment keeps track of events in an event queue and will resume the appropriate process once an event has been processed. Now, onto the coffee shop simulation! "
   ]
  },
  {
   "cell_type": "markdown",
   "id": "86f2217c-c64d-4140-9ac8-84225fcd38c8",
   "metadata": {},
   "source": [
    "## Coffee Shop \n",
    "\n",
    "<img class=\"docimage\" src=\"../images/order_coffee.png\" alt=\"Diagram showing coffee order.\" style=\"max-width: 90%\"/>"
   ]
  },
  {
   "cell_type": "markdown",
   "id": "8d61a634-ca0f-407c-8a40-6b58c91ef47d",
   "metadata": {},
   "source": [
    "In the coffee shop simulation, we model the ordering process. Each customer orders `n_cups` of coffee. For simplicity, we model the number of cups only, and not the type of coffee. There will be no caramel macchiato with chocolate drizzle available! Most customers buy one or two cups of coffee, occasionally up to four.\n",
    "\n",
    "We also sample the times between customer arrivals (`interarrival`) from an exponential distribution. This is a common choice as it assumes customers are arriving independently of each other. Below is an example using a mean interarrival time of 2 minutes with 20 customers."
   ]
  },
  {
   "cell_type": "code",
   "execution_count": 3,
   "id": "16ecbee0-ad00-43bd-a066-4b5a3f40ab9d",
   "metadata": {},
   "outputs": [],
   "source": [
    "import random\n",
    "import numpy as np\n",
    "import matplotlib.pyplot as plt\n",
    "\n",
    "def pick_n_cups():\n",
    "    return random.choices(range(1, 5), [0.6, 0.25, 0.05, 0.05])[0]\n",
    "\n",
    "def interarrival(mean):\n",
    "    assert mean > 0\n",
    "    return random.expovariate(1 / mean)\n",
    "\n",
    "mean_delta = 2  # minutes\n",
    "n_customers = 20\n",
    "arrival_deltas = [interarrival(mean_delta) for _ in range(n_customers)]\n",
    "n_cups = [pick_n_cups() for _ in range(n_customers)]\n",
    "arrival_times = np.cumsum(arrival_deltas)"
   ]
  },
  {
   "cell_type": "code",
   "execution_count": 4,
   "id": "7021097e-c3b0-4145-8ceb-9ad7aca6af7a",
   "metadata": {},
   "outputs": [
    {
     "data": {
      "image/png": "[encoded data removed]",
      "text/plain": [
       "<Figure size 720x288 with 1 Axes>"
      ]
     },
     "metadata": {
      "needs_background": "light"
     },
     "output_type": "display_data"
    }
   ],
   "source": [
    "#collapse\n",
    "plt.figure(figsize=(10, 4))\n",
    "ax = plt.gca()\n",
    "ax.bar(arrival_times, n_cups, width=0.2)\n",
    "ax.set_yticks(range(1, 5))\n",
    "ax.set_xlabel(\"Time [minutes]\")\n",
    "ax.set_ylabel(\"Number of cups\")\n",
    "ax.set_title(f\"Arrival times with mean = {mean_delta} minutes\");"
   ]
  },
  {
   "cell_type": "markdown",
   "id": "0d1eacb5-bd4d-47ef-b216-45ea6628a102",
   "metadata": {},
   "source": [
    "We see that it takes about 40 minutes for 20 customers to arrive, as we would expect with a mean of 2 minutes. "
   ]
  },
  {
   "cell_type": "markdown",
   "id": "c5d5de2e-9669-4cb0-85ba-c4e1191fe250",
   "metadata": {},
   "source": [
    "## Barristas and resources "
   ]
  },
  {
   "cell_type": "markdown",
   "id": "63c66093-af48-4772-816d-ba0b28687d20",
   "metadata": {},
   "source": [
    "Let's start with a simplified model where we only have barristas, so a customer can directly request coffee from them without going through checkout. We use a simpy `Resource` to model barristas. A resource is typically shared between multiple processes, and they queue to use it. A resource has a capacity - in this case this determines the number of barristas. Other types of resources are also available: for example, containers can be used to model a continuous quantity."
   ]
  },
  {
   "cell_type": "code",
   "execution_count": 25,
   "id": "1342a1c3-9d9d-4fa4-9edf-6fbc48c25393",
   "metadata": {},
   "outputs": [],
   "source": [
    "from collections import namedtuple\n",
    "\n",
    "Order = namedtuple(\"Order\", [\"id\", \"n_cups\"])\n",
    "\n",
    "def time_per_cup(avg_time=2):\n",
    "    return random.normalvariate(avg_time, 0.5)\n",
    "\n",
    "def prepare_coffee(env, order, barrista):\n",
    "    print(f\"begin order {order.id}\", round(env.now, 3))\n",
    "    with barrista.request() as req:\n",
    "        yield req  # wait until a barrista is available\n",
    "        prepare_time = order.n_cups * time_per_cup()\n",
    "        yield env.timeout(prepare_time)  # preparing coffee\n",
    "        \n",
    "    print(f\"order {order.id} ready!\", round(env.now, 3))\n",
    "    \n",
    "def generate_customers(env, barrista, mean_delta=2):\n",
    "    i = 0\n",
    "    while True:\n",
    "        order = Order(i, pick_n_cups())\n",
    "        yield env.timeout(interarrival(mean_delta))\n",
    "        env.process(prepare_coffee(env, order, barrista))\n",
    "        i += 1"
   ]
  },
  {
   "cell_type": "markdown",
   "id": "5636c469-11e7-45e5-8d02-f08c44db97cb",
   "metadata": {},
   "source": [
    "Each order is a namedtuple, which contains the order `id` (so we can track it through the simulation), as well as the `n_cups` which impacts the time it takes to prepare the order. We assume the order prep time is linear with `n_cups`.\n",
    "\n",
    "The simulation currently consists of two processes. The main process is `prepare_coffee` which models how a coffee is prepared. We first request the `barrista` resource, which means we wait until a barrista is available, and then prepare the order based on `n_cups`. When we exist the `barrista.request()` context, the barrista is released by the current process, and becomes available to fulfull other orders. \n",
    "\n",
    "The `generate_customers` resource simply generates orders based a `mean_delta` value using the `interarrival` distribution we saw before."
   ]
  },
  {
   "cell_type": "code",
   "execution_count": 27,
   "id": "4f2ae258-1382-4aff-930a-5b3268862e36",
   "metadata": {},
   "outputs": [
    {
     "name": "stdout",
     "output_type": "stream",
     "text": [
      "begin order 0 1.201\n",
      "begin order 1 1.233\n",
      "order 0 ready! 2.763\n",
      "begin order 2 2.863\n",
      "begin order 3 3.397\n",
      "order 1 ready! 4.688\n",
      "begin order 4 5.159\n",
      "begin order 5 5.245\n",
      "begin order 6 7.831\n",
      "order 2 ready! 8.99\n",
      "begin order 7 11.47\n",
      "begin order 8 11.786\n",
      "order 3 ready! 13.342\n",
      "begin order 9 15.774\n",
      "order 4 ready! 17.371\n",
      "begin order 10 17.493\n"
     ]
    }
   ],
   "source": [
    "env = simpy.Environment()\n",
    "barrista = simpy.Resource(env, capacity=1)\n",
    "env.process(generate_customers(env, barrista))\n",
    "env.run(until=20)"
   ]
  },
  {
   "cell_type": "code",
   "execution_count": 22,
   "id": "7fb8812d-c563-422e-a2a5-ca1b8aad3e1b",
   "metadata": {},
   "outputs": [],
   "source": [
    "class CoffeeSimSimple:\n",
    "    def __init__(self, env, n_barristas, to_log=False):\n",
    "        self.env = env\n",
    "        self.barrista = simpy.Resource(env, capacity=n_barristas)\n",
    "        self.barrista_ledger = {}  # for saving data\n",
    "        self.to_log = to_log\n",
    "        \n",
    "    def prepare_coffee(self, order):\n",
    "        begin_time = self.env.now\n",
    "        self.barrista_ledger[begin_time] = 1\n",
    "        if self.to_log: print(f\"begin order {order.id}\", round(self.env.now, 3))\n",
    "        \n",
    "        with self.barrista.request() as req:\n",
    "            yield req  # wait until a barrista is available\n",
    "            prepare_time = order.n_cups * time_per_cup()\n",
    "            yield self.env.timeout(prepare_time)\n",
    "        \n",
    "        ready_time = self.env.now\n",
    "        self.barrista_ledger[ready_time] = -1\n",
    "        if self.to_log: print(f\"order {order.id} ready!\", round(ready_time, 3))\n",
    "\n",
    "    def generate_customers(self, mean_delta=2):\n",
    "        i = 0\n",
    "        while True:\n",
    "            order = Order(i, pick_n_cups())\n",
    "            yield self.env.timeout(interarrival(mean_delta))\n",
    "            self.env.process(self.prepare_coffee(order))\n",
    "            i += 1\n",
    "     \n",
    "    def run(self, mean_delta, until):\n",
    "        self.env.process(self.generate_customers(mean_delta))\n",
    "        self.env.run(until=until)"
   ]
  },
  {
   "cell_type": "code",
   "execution_count": 24,
   "id": "f94957b3-748f-422c-bb90-bb869847bfe1",
   "metadata": {},
   "outputs": [
    {
     "name": "stdout",
     "output_type": "stream",
     "text": [
      "begin order 0 1.459\n",
      "begin order 1 2.034\n",
      "order 0 ready! 3.532\n",
      "begin order 2 4.098\n",
      "order 1 ready! 4.133\n",
      "order 2 ready! 5.961\n",
      "begin order 3 8.894\n",
      "begin order 4 10.197\n",
      "order 3 ready! 10.336\n",
      "begin order 5 10.579\n",
      "begin order 6 11.866\n",
      "order 4 ready! 11.96\n",
      "order 5 ready! 12.714\n",
      "begin order 7 13.442\n",
      "order 6 ready! 14.122\n",
      "order 7 ready! 15.253\n",
      "begin order 8 15.494\n",
      "order 8 ready! 17.988\n"
     ]
    }
   ],
   "source": [
    "coffee_sim = CoffeeSimSimple(simpy.Environment(), n_barristas=2, to_log=True)\n",
    "coffee_sim.run(2, 20)"
   ]
  },
  {
   "cell_type": "code",
   "execution_count": null,
   "id": "fb5fe8f5-53c7-489f-9e61-84f07ce26616",
   "metadata": {},
   "outputs": [],
   "source": []
  }
 ],
 "metadata": {
  "kernelspec": {
   "display_name": "Python 3",
   "language": "python",
   "name": "python3"
  },
  "language_info": {
   "codemirror_mode": {
    "name": "ipython",
    "version": 3
   },
   "file_extension": ".py",
   "mimetype": "text/x-python",
   "name": "python",
   "nbconvert_exporter": "python",
   "pygments_lexer": "ipython3",
   "version": "3.7.7"
  }
 },
 "nbformat": 4,
 "nbformat_minor": 5
}
