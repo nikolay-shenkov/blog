{
 "cells": [
  {
   "cell_type": "markdown",
   "id": "4c9dc92b-9297-424c-a460-96b59ec0a020",
   "metadata": {},
   "source": [
    "# Discrete Events and Coffee Shops\n",
    "\n",
    "- toc: true\n",
    "- branch: master\n",
    "- badges: false\n",
    "- comments: true\n",
    "- categories: [python, simulation]\n",
    "- image: images/order_coffee.png\n",
    "- hide: false\n",
    "- search_exclude: false\n",
    "- annotations: true\n",
    "\n",
    "> We use discrete-event simulation to model a coffee shop."
   ]
  },
  {
   "cell_type": "markdown",
   "id": "6d377e00-2859-4b9f-9608-fde78dec11f3",
   "metadata": {},
   "source": [
    "<img class=\"docimage\" src=\"../images/cafe_greco_passini.jpg\" alt=\"A painting of an old cafe in Rome.\" style=\"max-width: 90%\"/>\n",
    "\n",
    "*Ludwig Passini - Cafe Greco*. Depicted is one of the oldest cafes in Rome, first opened in 1760."
   ]
  },
  {
   "cell_type": "markdown",
   "id": "419ba5b5-0264-4426-a2fa-1ba4c4dda192",
   "metadata": {},
   "source": [
    "## Discrete-event simulation\n",
    "\n",
    "In a discrete-event simulation we model a system as a sequence of events that occur at discrete times. For example, in a grocery queue, the events might be: customer lines up at the queue, customer reaches cashier, and completes transactions. The entire system is modeled via events and no other state change occurs between events.\n",
    "\n",
    "Discrete event simulations have a large number of applications in logistics, operations and many others. They can be a useful addition in a data scientist's toolbelt.\n",
    "\n",
    "## Simpy\n",
    "\n",
    "Simpy is a Python package for discrete-event simulation. The package provides three main constructs: events, processes and resources. We will discuss resources in the Coffee Shop simulation, below we illustrate the first two constructs.\n",
    "\n",
    "Processes model components of a system by emitting events. Processes are defined by a Python generator. A generator allows for the temporary suspension of a process, and it makes it very convenient to model various components. Here is an example:"
   ]
  },
  {
   "cell_type": "code",
   "execution_count": 1,
   "id": "dcbfc9ae-5c69-4a93-a615-1a6a84bccbe1",
   "metadata": {},
   "outputs": [],
   "source": [
    "import simpy"
   ]
  },
  {
   "cell_type": "code",
   "execution_count": 7,
   "id": "87ca86c3-c8b3-4801-91fc-6217b1a87d51",
   "metadata": {},
   "outputs": [
    {
     "name": "stdout",
     "output_type": "stream",
     "text": [
      "worker 1 finished 1 parts at 20\n",
      "worker 2 finished 1 parts at 30\n",
      "worker 1 finished 2 parts at 40\n",
      "worker 2 finished 2 parts at 60\n",
      "worker 1 finished 3 parts at 60\n",
      "worker 1 finished 4 parts at 80\n",
      "worker 2 finished 3 parts at 90\n"
     ]
    }
   ],
   "source": [
    "def worker(env, worker_id, time_to_complete):\n",
    "    \"\"\"A worker finishes a part every time_to_complete minutes\"\"\"\n",
    "    i = 1\n",
    "    while True:\n",
    "        yield env.timeout(time_to_complete)\n",
    "        print(f\"worker {worker_id} finished {i} parts at {env.now}\")\n",
    "        i += 1\n",
    "        \n",
    "env = simpy.Environment()\n",
    "env.process(worker(env, worker_id=1, time_to_complete=20))\n",
    "env.process(worker(env, worker_id=2, time_to_complete=30))\n",
    "env.run(until=100)"
   ]
  },
  {
   "cell_type": "markdown",
   "id": "29866187-ec52-4f21-acb5-c85fd51e6116",
   "metadata": {},
   "source": [
    "Above we create two worker processes. A worker simply takes `time_to_complete` minutes to complete a part. The \"waiting\" part is determined by a simpy Timeout event, which allows for simulation time to pass. When the timeout is complete (the event has been processed), the worker process is resumed and the entire procedure repeats.\n",
    "\n",
    "Note that the two workers are running concurrently. The simpy environment keeps track of events in an event queue and will resume the appropriate process once an event has been processed. "
   ]
  },
  {
   "cell_type": "code",
   "execution_count": null,
   "id": "b555744f-79b9-4a52-af9c-3ad7e24e9130",
   "metadata": {},
   "outputs": [],
   "source": []
  }
 ],
 "metadata": {
  "kernelspec": {
   "display_name": "Python 3",
   "language": "python",
   "name": "python3"
  },
  "language_info": {
   "codemirror_mode": {
    "name": "ipython",
    "version": 3
   },
   "file_extension": ".py",
   "mimetype": "text/x-python",
   "name": "python",
   "nbconvert_exporter": "python",
   "pygments_lexer": "ipython3",
   "version": "3.7.7"
  }
 },
 "nbformat": 4,
 "nbformat_minor": 5
}
